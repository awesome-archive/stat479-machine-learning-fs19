{
 "cells": [
  {
   "cell_type": "markdown",
   "metadata": {},
   "source": [
    "STAT 479: Machine Learning (Fall 2019)  \n",
    "Instructor: Sebastian Raschka (sraschka@wisc.edu)  \n",
    "\n",
    "Course website: http://pages.stat.wisc.edu/~sraschka/teaching/stat479-fs2019/"
   ]
  },
  {
   "cell_type": "markdown",
   "metadata": {},
   "source": [
    "# L10: Model Evaluation 3 -- Cross-Validation and Model Selection"
   ]
  },
  {
   "cell_type": "code",
   "execution_count": 1,
   "metadata": {},
   "outputs": [
    {
     "name": "stdout",
     "output_type": "stream",
     "text": [
      "Sebastian Raschka \n",
      "last updated: 2019-10-29 \n",
      "\n",
      "CPython 3.7.1\n",
      "IPython 7.8.0\n",
      "\n",
      "numpy 1.17.2\n",
      "mlxtend 0.18.0dev0\n",
      "matplotlib 3.1.0\n",
      "sklearn 0.21.3\n"
     ]
    }
   ],
   "source": [
    "%load_ext watermark\n",
    "%watermark -a 'Sebastian Raschka' -u -d -v -p numpy,mlxtend,matplotlib,sklearn"
   ]
  },
  {
   "cell_type": "code",
   "execution_count": 2,
   "metadata": {},
   "outputs": [],
   "source": [
    "import numpy as np\n",
    "import matplotlib.pyplot as plt"
   ]
  },
  {
   "cell_type": "markdown",
   "metadata": {},
   "source": [
    "- note to students: with matplotlib 3.0 you don't need `%matplotlib inline` in the notebook anymore; for older matplotlib versions you need to add that though to display the results in the notebook (so, please check via watermark when you are running this)"
   ]
  },
  {
   "cell_type": "markdown",
   "metadata": {},
   "source": [
    "<p style=\"margin-bottom:5cm;\"></p>\n",
    "\n",
    "## K-fold Cross-Validation in Scikit-Learn"
   ]
  },
  {
   "cell_type": "markdown",
   "metadata": {},
   "source": [
    "- Simple demonstration of using a cross-validation iterator in scikit-learn"
   ]
  },
  {
   "cell_type": "code",
   "execution_count": 3,
   "metadata": {},
   "outputs": [
    {
     "name": "stdout",
     "output_type": "stream",
     "text": [
      "(array([2, 3, 4, 5, 6, 7, 8, 9]), array([0, 1]))\n",
      "(array([0, 1, 4, 5, 6, 7, 8, 9]), array([2, 3]))\n",
      "(array([0, 1, 2, 3, 6, 7, 8, 9]), array([4, 5]))\n",
      "(array([0, 1, 2, 3, 4, 5, 8, 9]), array([6, 7]))\n",
      "(array([0, 1, 2, 3, 4, 5, 6, 7]), array([8, 9]))\n"
     ]
    }
   ],
   "source": [
    "from sklearn.model_selection import KFold\n",
    "\n",
    "\n",
    "rng = np.random.RandomState(123)\n",
    "\n",
    "y = np.array([0, 0, 0, 0, 0, 1, 1, 1, 1, 1])\n",
    "X = rng.random_sample((y.shape[0], 4))\n",
    "\n",
    "\n",
    "cv = KFold(n_splits=5)\n",
    "\n",
    "for k in cv.split(X, y):\n",
    "    print(k)"
   ]
  },
  {
   "cell_type": "markdown",
   "metadata": {},
   "source": [
    "<p style=\"margin-bottom:5cm;\"></p>\n",
    "\n",
    "- In practice, we are usually interested in shuffling the dataset, because if the data records are ordered by class label, this would result in cases where the classes are not well represented in the training and test folds"
   ]
  },
  {
   "cell_type": "code",
   "execution_count": 4,
   "metadata": {},
   "outputs": [
    {
     "name": "stdout",
     "output_type": "stream",
     "text": [
      "(array([1, 2, 3, 5, 6, 7, 8, 9]), array([0, 4]))\n",
      "(array([0, 1, 2, 3, 4, 6, 8, 9]), array([5, 7]))\n",
      "(array([0, 1, 2, 4, 5, 6, 7, 9]), array([3, 8]))\n",
      "(array([0, 2, 3, 4, 5, 7, 8, 9]), array([1, 6]))\n",
      "(array([0, 1, 3, 4, 5, 6, 7, 8]), array([2, 9]))\n"
     ]
    }
   ],
   "source": [
    "cv = KFold(n_splits=5, random_state=123, shuffle=True)\n",
    "\n",
    "for k in cv.split(X, y):\n",
    "    print(k)"
   ]
  },
  {
   "cell_type": "markdown",
   "metadata": {},
   "source": [
    "<p style=\"margin-bottom:5cm;\"></p>\n",
    "\n",
    "- Note that the `KFold` iterator only provides us with the array indices; in practice, we are actually interested in the array values (feature values and class labels)"
   ]
  },
  {
   "cell_type": "code",
   "execution_count": 5,
   "metadata": {},
   "outputs": [
    {
     "name": "stdout",
     "output_type": "stream",
     "text": [
      "train labels with shuffling [0 0 0 1 1 1 1 1]\n",
      "train labels with shuffling [0 0 0 0 0 1 1 1]\n",
      "train labels with shuffling [0 0 0 0 1 1 1 1]\n",
      "train labels with shuffling [0 0 0 0 1 1 1 1]\n",
      "train labels with shuffling [0 0 0 0 1 1 1 1]\n"
     ]
    }
   ],
   "source": [
    "cv = KFold(n_splits=5, random_state=123, shuffle=True)\n",
    "\n",
    "for train_idx, valid_idx in cv.split(X, y):\n",
    "    print('train labels with shuffling', y[train_idx])"
   ]
  },
  {
   "cell_type": "markdown",
   "metadata": {},
   "source": [
    "<p style=\"margin-bottom:5cm;\"></p>\n",
    "\n",
    "- As discussed in the lecture, it's important to stratify the splits (very crucial for small datasets!)"
   ]
  },
  {
   "cell_type": "code",
   "execution_count": 6,
   "metadata": {},
   "outputs": [
    {
     "name": "stdout",
     "output_type": "stream",
     "text": [
      "train labels [0 0 0 0 1 1 1 1]\n",
      "train labels [0 0 0 0 1 1 1 1]\n",
      "train labels [0 0 0 0 1 1 1 1]\n",
      "train labels [0 0 0 0 1 1 1 1]\n",
      "train labels [0 0 0 0 1 1 1 1]\n"
     ]
    }
   ],
   "source": [
    "from sklearn.model_selection import StratifiedKFold\n",
    "\n",
    "cv = StratifiedKFold(n_splits=5, random_state=123, shuffle=True)\n",
    "\n",
    "for train_idx, valid_idx in cv.split(X, y):\n",
    "    print('train labels', y[train_idx])"
   ]
  },
  {
   "cell_type": "markdown",
   "metadata": {},
   "source": [
    "<p style=\"margin-bottom:5cm;\"></p>\n",
    "\n",
    "- After the illustrations of cross-validation above, the next cell demonstrates how we can actually use the iterators provided through scikit-learn to fit and evaluate a learning algorithm"
   ]
  },
  {
   "cell_type": "code",
   "execution_count": 7,
   "metadata": {},
   "outputs": [
    {
     "name": "stdout",
     "output_type": "stream",
     "text": [
      "Kfold Accuracy: 95.33%\n",
      "Test Accuracy: 95.65%\n"
     ]
    }
   ],
   "source": [
    "from sklearn.tree import DecisionTreeClassifier\n",
    "from mlxtend.data import iris_data\n",
    "from sklearn.model_selection import train_test_split\n",
    "\n",
    "\n",
    "X, y = iris_data()\n",
    "X_train, X_test, y_train, y_test = train_test_split(X, y, random_state=123, test_size=0.15, \n",
    "                                                    shuffle=True, stratify=y)\n",
    "\n",
    "\n",
    "\n",
    "cv = StratifiedKFold(n_splits=10, random_state=123, shuffle=True)\n",
    "\n",
    "kfold_acc = 0.\n",
    "for train_idx, valid_idx in cv.split(X_train, y_train):\n",
    "    clf = DecisionTreeClassifier(random_state=123, max_depth=3).fit(X_train[train_idx], y_train[train_idx])\n",
    "    y_pred = clf.predict(X_train[valid_idx])\n",
    "    acc = np.mean(y_pred == y_train[valid_idx])*100\n",
    "    kfold_acc += acc\n",
    "kfold_acc /= 10\n",
    "    \n",
    "clf = DecisionTreeClassifier(random_state=123, max_depth=3).fit(X_train, y_train)\n",
    "y_pred = clf.predict(X_test)\n",
    "test_acc = np.mean(y_pred == y_test)*100\n",
    "    \n",
    "print('Kfold Accuracy: %.2f%%' % kfold_acc)\n",
    "print('Test Accuracy: %.2f%%' % test_acc)\n",
    "\n"
   ]
  },
  {
   "cell_type": "markdown",
   "metadata": {},
   "source": [
    "<p style=\"margin-bottom:5cm;\"></p>\n",
    "\n",
    "- Usually, a more convenient way to use cross-validation through scikit-learn is to use the `cross_val_score` function (note that it performs stratifies splitting for classification by default)\n",
    "- (remember to ask students about whitespaces according to pep8)"
   ]
  },
  {
   "cell_type": "code",
   "execution_count": 8,
   "metadata": {},
   "outputs": [
    {
     "name": "stdout",
     "output_type": "stream",
     "text": [
      "Kfold Accuracy: 96.83%\n"
     ]
    }
   ],
   "source": [
    "from sklearn.model_selection import cross_val_score\n",
    "\n",
    "\n",
    "cv_acc = cross_val_score(estimator=DecisionTreeClassifier(random_state=123, max_depth=3),\n",
    "                         X=X_train,\n",
    "                         y=y_train,\n",
    "                         cv=10,\n",
    "                         n_jobs=-1)\n",
    "\n",
    "print('Kfold Accuracy: %.2f%%' % (np.mean(cv_acc)*100))"
   ]
  },
  {
   "cell_type": "markdown",
   "metadata": {},
   "source": [
    "<p style=\"margin-bottom:5cm;\"></p>\n",
    "\n",
    "- `cross_val_score` has unfortunately no way to specify a random seed; this is not an issue in regular use cases, but it is not useful if you want to do \"repeated cross-validation\"\n",
    "- The next cell illustrates how we can provide our own cross-validation iterator for convenience (note that the results match or \"manual\" `StratifiedKFold` approach we performed earlier)"
   ]
  },
  {
   "cell_type": "code",
   "execution_count": 9,
   "metadata": {},
   "outputs": [
    {
     "name": "stdout",
     "output_type": "stream",
     "text": [
      "Kfold Accuracy: 95.33%\n"
     ]
    }
   ],
   "source": [
    "from sklearn.model_selection import cross_val_score\n",
    "\n",
    "\n",
    "cv_acc = cross_val_score(estimator=DecisionTreeClassifier(random_state=123, max_depth=3),\n",
    "                         X=X_train,\n",
    "                         y=y_train,\n",
    "                         cv=StratifiedKFold(n_splits=10, random_state=123, shuffle=True),\n",
    "                         n_jobs=-1)\n",
    "\n",
    "print('Kfold Accuracy: %.2f%%' % (np.mean(cv_acc)*100))"
   ]
  },
  {
   "cell_type": "markdown",
   "metadata": {},
   "source": [
    "<p style=\"margin-bottom:5cm;\"></p>\n",
    "\n",
    "##  Bootstrap"
   ]
  },
  {
   "cell_type": "markdown",
   "metadata": {},
   "source": [
    "- Recall Bootstrapping from 2 lectures ago? Here I is an iterator I implemented analogous to `KFold`"
   ]
  },
  {
   "cell_type": "code",
   "execution_count": 10,
   "metadata": {},
   "outputs": [
    {
     "name": "stdout",
     "output_type": "stream",
     "text": [
      "[1 3 1 0 1] [2 4]\n",
      "[0 2 4 4 1] [3]\n",
      "[3 1 1 0 3] [2 4]\n",
      "[3 4 2 0 4] [1]\n",
      "[0 0 4 1 3] [2]\n"
     ]
    }
   ],
   "source": [
    "from mlxtend.evaluate import BootstrapOutOfBag\n",
    "\n",
    "oob = BootstrapOutOfBag(n_splits=5, random_seed=99)\n",
    "for train, test in oob.split(np.array([1, 2, 3, 4, 5])):\n",
    "    print(train, test)"
   ]
  },
  {
   "cell_type": "markdown",
   "metadata": {},
   "source": [
    "<p style=\"margin-bottom:5cm;\"></p>\n",
    "\n",
    "- Analagous the `KFold` iterator, we can use it in the `cross_val_score` function for convenience"
   ]
  },
  {
   "cell_type": "code",
   "execution_count": 11,
   "metadata": {},
   "outputs": [
    {
     "name": "stdout",
     "output_type": "stream",
     "text": [
      "OOB Bootstrap Accuracy: 94.73%\n"
     ]
    }
   ],
   "source": [
    "cv_acc = cross_val_score(estimator=DecisionTreeClassifier(random_state=99, max_depth=3),\n",
    "                         X=X_train,\n",
    "                         y=y_train,\n",
    "                         cv=BootstrapOutOfBag(n_splits=200, random_seed=99),\n",
    "                         n_jobs=-1)\n",
    "\n",
    "print('OOB Bootstrap Accuracy: %.2f%%' % (np.mean(cv_acc)*100))"
   ]
  },
  {
   "cell_type": "markdown",
   "metadata": {},
   "source": [
    "<p style=\"margin-bottom:5cm;\"></p>\n",
    "\n",
    "- Analagous to the `cross_val_score` method, you can use the `bootstrap_point632_score`, which implements the .632-Bootstrap method (which is less pesimistically biased than the out-of-bag bootstrap)"
   ]
  },
  {
   "cell_type": "code",
   "execution_count": 12,
   "metadata": {},
   "outputs": [
    {
     "name": "stdout",
     "output_type": "stream",
     "text": [
      "OOB Bootstrap Accuracy: 96.15%\n"
     ]
    }
   ],
   "source": [
    "from mlxtend.evaluate import bootstrap_point632_score\n",
    "\n",
    "\n",
    "cv_acc = bootstrap_point632_score(estimator=DecisionTreeClassifier(random_state=123, max_depth=3),\n",
    "                                  X=X_train,\n",
    "                                  y=y_train,\n",
    "                                  random_seed=99)\n",
    "\n",
    "print('OOB Bootstrap Accuracy: %.2f%%' % (np.mean(cv_acc)*100))"
   ]
  },
  {
   "cell_type": "markdown",
   "metadata": {},
   "source": [
    "- By default, `bootstrap_point632_score` uses the setting `method='.632'`\n",
    "- By setting `method='.632+'`, we can also perform the .632+ bootstrap, which corrects for optimism bias, which is shown below"
   ]
  },
  {
   "cell_type": "code",
   "execution_count": 13,
   "metadata": {},
   "outputs": [
    {
     "name": "stdout",
     "output_type": "stream",
     "text": [
      "OOB Bootstrap Accuracy: 96.02%\n"
     ]
    }
   ],
   "source": [
    "cv_acc = bootstrap_point632_score(estimator=DecisionTreeClassifier(random_state=123, max_depth=3),\n",
    "                                  X=X_train,\n",
    "                                  y=y_train,\n",
    "                                  method='.632+',\n",
    "                                  n_splits=200,\n",
    "                                  random_seed=99)\n",
    "\n",
    "print('OOB Bootstrap Accuracy: %.2f%%' % (np.mean(cv_acc)*100))"
   ]
  },
  {
   "cell_type": "markdown",
   "metadata": {},
   "source": [
    "- Finally, for your convenience, you can also set `method='oob'`, to run a regular Out-of-bag boostrap:"
   ]
  },
  {
   "cell_type": "code",
   "execution_count": 14,
   "metadata": {},
   "outputs": [
    {
     "name": "stdout",
     "output_type": "stream",
     "text": [
      "OOB Bootstrap Accuracy: 94.77%\n"
     ]
    }
   ],
   "source": [
    "cv_acc = bootstrap_point632_score(estimator=DecisionTreeClassifier(random_state=123, max_depth=3),\n",
    "                                  X=X_train,\n",
    "                                  y=y_train,\n",
    "                                  method='oob',\n",
    "                                  n_splits=200,\n",
    "                                  random_seed=99)\n",
    "\n",
    "print('OOB Bootstrap Accuracy: %.2f%%' % (np.mean(cv_acc)*100))"
   ]
  },
  {
   "cell_type": "markdown",
   "metadata": {},
   "source": [
    "<p style=\"margin-bottom:5cm;\"></p>\n",
    "\n",
    "\n",
    "## GridSearch"
   ]
  },
  {
   "cell_type": "markdown",
   "metadata": {},
   "source": [
    "- For hyperparameter tuning and model selection, `GridSearchCV` is really useful"
   ]
  },
  {
   "cell_type": "code",
   "execution_count": 15,
   "metadata": {},
   "outputs": [
    {
     "name": "stdout",
     "output_type": "stream",
     "text": [
      "Best Accuracy: 96.83%\n",
      "Best Params: {'criterion': 'gini', 'max_depth': 3}\n"
     ]
    }
   ],
   "source": [
    "from sklearn.model_selection import GridSearchCV\n",
    "\n",
    "param_grid = [{'max_depth': [1, 2, 3, 4, 5, 6, None],\n",
    "               'criterion': ['gini', 'entropy']}]\n",
    "\n",
    "gs = GridSearchCV(estimator=DecisionTreeClassifier(random_state=123),\n",
    "                  param_grid=param_grid,\n",
    "                  iid=False,\n",
    "                  refit=True,\n",
    "                  cv=10)\n",
    "\n",
    "gs.fit(X_train, y_train)\n",
    "\n",
    "print('Best Accuracy: %.2f%%' % (gs.best_score_*100))\n",
    "print('Best Params:', gs.best_params_)"
   ]
  },
  {
   "cell_type": "code",
   "execution_count": 16,
   "metadata": {},
   "outputs": [
    {
     "name": "stdout",
     "output_type": "stream",
     "text": [
      "0.6692307692307693 {'criterion': 'gini', 'max_depth': 1}\n",
      "0.9123076923076923 {'criterion': 'gini', 'max_depth': 2}\n",
      "0.9683333333333334 {'criterion': 'gini', 'max_depth': 3}\n",
      "0.9533333333333334 {'criterion': 'gini', 'max_depth': 4}\n",
      "0.9616666666666666 {'criterion': 'gini', 'max_depth': 5}\n",
      "0.9616666666666666 {'criterion': 'gini', 'max_depth': 6}\n",
      "0.9616666666666666 {'criterion': 'gini', 'max_depth': None}\n",
      "0.6692307692307693 {'criterion': 'entropy', 'max_depth': 1}\n",
      "0.9123076923076923 {'criterion': 'entropy', 'max_depth': 2}\n",
      "0.9606410256410255 {'criterion': 'entropy', 'max_depth': 3}\n",
      "0.9456410256410257 {'criterion': 'entropy', 'max_depth': 4}\n",
      "0.9462820512820512 {'criterion': 'entropy', 'max_depth': 5}\n",
      "0.9539743589743589 {'criterion': 'entropy', 'max_depth': 6}\n",
      "0.9539743589743589 {'criterion': 'entropy', 'max_depth': None}\n"
     ]
    }
   ],
   "source": [
    "for i in range(len(gs.cv_results_['mean_test_score'])):\n",
    "    print(gs.cv_results_['mean_test_score'][i], gs.cv_results_['params'][i]) "
   ]
  },
  {
   "cell_type": "markdown",
   "metadata": {},
   "source": [
    "- After running `GridSearchCV`, we would fit a model with the best settings (hyperparameters on the whole training set\n",
    "- By default, `GridSearchCV` already does this for us (unless, we set `refit=False`), so that we can evaluate the performance of the model on the test set"
   ]
  },
  {
   "cell_type": "code",
   "execution_count": 17,
   "metadata": {},
   "outputs": [
    {
     "name": "stdout",
     "output_type": "stream",
     "text": [
      "Accuracy: 95.65%\n"
     ]
    }
   ],
   "source": [
    "# gs.best_estimator_.fit(X_train, y_train)\n",
    "print('Accuracy: %.2f%%' % (gs.best_estimator_.score(X_test, y_test)*100))"
   ]
  },
  {
   "cell_type": "markdown",
   "metadata": {},
   "source": [
    "<p style=\"margin-bottom:5cm;\"></p>\n",
    "\n",
    "- `GridSearchCV` is also compatible with the .632-Bootstrap iterator we defined earlier"
   ]
  },
  {
   "cell_type": "code",
   "execution_count": 18,
   "metadata": {},
   "outputs": [
    {
     "name": "stdout",
     "output_type": "stream",
     "text": [
      "Best Accuracy: 95.12%\n",
      "Best Params: {'criterion': 'entropy', 'max_depth': 3}\n",
      "Accuracy: 95.65%\n"
     ]
    }
   ],
   "source": [
    "from sklearn.model_selection import GridSearchCV\n",
    "\n",
    "\n",
    "param_grid = [{'max_depth': [1, 2, 3, 4, 5, 6, None],\n",
    "               'criterion': ['gini', 'entropy']}]\n",
    "\n",
    "gs = GridSearchCV(estimator=DecisionTreeClassifier(random_state=123),\n",
    "                  param_grid=param_grid,\n",
    "                  iid=False,\n",
    "                  cv=BootstrapOutOfBag(n_splits=200, random_seed=123))\n",
    "\n",
    "gs.fit(X_train, y_train)\n",
    "\n",
    "print('Best Accuracy: %.2f%%' % (gs.best_score_*100))\n",
    "print('Best Params:', gs.best_params_)\n",
    "print('Accuracy: %.2f%%' % (gs.best_estimator_.score(X_test, y_test)*100))"
   ]
  },
  {
   "cell_type": "markdown",
   "metadata": {},
   "source": [
    "<p style=\"margin-bottom:5cm;\"></p>\n",
    "\n",
    "- Note that feature scaling is unnecessary when we are using decsion trees, however it DOES matter in most other learning algorithms, including k-Nearest-Neighbors\n",
    "- To avoid introducing bias, we have to compute the parameters for scaling (e.g., the mean and standard deviation in context of z-score normalization) on the training fold to scale the training AND test fold in a given iteration\n",
    "- To make this more convenient, this is where scikit-learn's `Pipeline` class (or `make_pipeline` function) comes in handy as the next cell demonstrates"
   ]
  },
  {
   "cell_type": "code",
   "execution_count": 19,
   "metadata": {},
   "outputs": [
    {
     "name": "stdout",
     "output_type": "stream",
     "text": [
      "Best Accuracy: 94.78%\n",
      "Best Params: {'kneighborsclassifier__n_neighbors': 12, 'kneighborsclassifier__p': 1}\n",
      "Accuracy: 91.30%\n"
     ]
    }
   ],
   "source": [
    "from sklearn.pipeline import make_pipeline\n",
    "from sklearn.preprocessing import StandardScaler\n",
    "from sklearn.neighbors import KNeighborsClassifier\n",
    "\n",
    "\n",
    "pipe = make_pipeline(StandardScaler(), \n",
    "                     KNeighborsClassifier())\n",
    "\n",
    "param_grid = [{'kneighborsclassifier__n_neighbors': list(range(1, 16)),\n",
    "               'kneighborsclassifier__p': [1, 2]}]\n",
    "\n",
    "\n",
    "gs = GridSearchCV(estimator=pipe,\n",
    "                  param_grid=param_grid,\n",
    "                  iid=False,\n",
    "                  n_jobs=-1,\n",
    "                  cv=BootstrapOutOfBag(n_splits=200, random_seed=123))\n",
    "\n",
    "gs.fit(X_train, y_train)\n",
    "\n",
    "print('Best Accuracy: %.2f%%' % (gs.best_score_*100))\n",
    "print('Best Params:', gs.best_params_)\n",
    "print('Accuracy: %.2f%%' % (gs.best_estimator_.score(X_test, y_test)*100))"
   ]
  },
  {
   "cell_type": "markdown",
   "metadata": {},
   "source": [
    "<p style=\"margin-bottom:5cm;\"></p>\n",
    "\n",
    "\n",
    "## K-fold and standard deviation (1-standard error method)"
   ]
  },
  {
   "cell_type": "markdown",
   "metadata": {},
   "source": [
    "- Below is an application of the 1-standard error method we discussed in class (to select hyperparameters according to the \"Law of Parsimony\")"
   ]
  },
  {
   "cell_type": "code",
   "execution_count": 20,
   "metadata": {},
   "outputs": [
    {
     "data": {
      "image/png": "[encoded data removed]",
      "text/plain": [
       "<Figure size 432x288 with 1 Axes>"
      ]
     },
     "metadata": {
      "needs_background": "light"
     },
     "output_type": "display_data"
    }
   ],
   "source": [
    "from sklearn.model_selection import train_test_split\n",
    "from sklearn.datasets import make_circles\n",
    "\n",
    "\n",
    "X, y = make_circles(n_samples=300, random_state=1, noise=0.275, factor=0.2)\n",
    "\n",
    "X_train, X_test, y_train, y_test = train_test_split(X, y,\n",
    "                                                    test_size=0.3, \n",
    "                                                    random_state=12345,\n",
    "                                                    stratify=y)\n",
    "\n",
    "plt.scatter(X_train[y_train==0, 0], X_train[y_train==0, 1], \n",
    "            marker='s', color='red', edgecolor='k', alpha=0.6, s=25)\n",
    "plt.scatter(X_train[y_train==1, 0], X_train[y_train==1, 1], \n",
    "            marker='^', color='blue', edgecolor='k', alpha=0.6, s=25)\n",
    "plt.xlabel('X1', fontsize=14.5)\n",
    "plt.ylabel('X2', fontsize=14.5)\n",
    "\n",
    "plt.show()"
   ]
  },
  {
   "cell_type": "code",
   "execution_count": 21,
   "metadata": {},
   "outputs": [
    {
     "data": {
      "image/png": "[encoded data removed]",
      "text/plain": [
       "<Figure size 432x288 with 1 Axes>"
      ]
     },
     "metadata": {
      "needs_background": "light"
     },
     "output_type": "display_data"
    }
   ],
   "source": [
    "from sklearn.svm import SVC\n",
    "from sklearn.model_selection import StratifiedKFold\n",
    "\n",
    "params = [0.001, 0.01, 0.1, 1.0, 10.0, 100.0, 1000.0, 10000.0]\n",
    "cv_acc, cv_std, cv_stderr = [], [], []\n",
    "\n",
    "\n",
    "cv = StratifiedKFold(n_splits=10, shuffle=True, random_state=1)\n",
    "\n",
    "for c in params:\n",
    "\n",
    "    clf = SVC(C=10.0, \n",
    "              kernel='rbf', \n",
    "              degree=1, \n",
    "              gamma=c, \n",
    "              coef0=0.0, \n",
    "              shrinking=True, \n",
    "              probability=False, \n",
    "              tol=0.001, \n",
    "              cache_size=200, \n",
    "              class_weight=None, \n",
    "              verbose=False, \n",
    "              max_iter=-1, \n",
    "              decision_function_shape=None, \n",
    "              random_state=0)\n",
    "\n",
    "    \n",
    "    all_acc = []\n",
    "    for train_index, valid_index in cv.split(X_train, y_train):\n",
    "        pred = clf.fit(X_train[train_index], y_train[train_index])\\\n",
    "               .predict(X_train[valid_index])\n",
    "        acc = np.mean(y_train[valid_index] == pred)\n",
    "        all_acc.append(acc)\n",
    "\n",
    "    all_acc = np.array(all_acc)\n",
    "    y_pred_cv10_mean = all_acc.mean()\n",
    "    y_pred_cv10_std = all_acc.std()\n",
    "    y_pred_cv10_stderr = y_pred_cv10_std / np.sqrt(10)\n",
    "\n",
    "    cv_acc.append(y_pred_cv10_mean) \n",
    "    cv_std.append(y_pred_cv10_std)\n",
    "    cv_stderr.append(y_pred_cv10_stderr)\n",
    "    \n",
    "\n",
    "## PLOTTING\n",
    "\n",
    "ax = plt.subplot(111)\n",
    "ax.set_xscale('log')\n",
    "ax.errorbar(params, cv_acc, yerr=cv_std, fmt='--o', ecolor='black', elinewidth=2)\n",
    "\n",
    "\n",
    "plt.ylim([0.0, 1.0])\n",
    "plt.xlim([0.0001, 100000.0])\n",
    "plt.grid()\n",
    "plt.xlabel('$\\\\gamma$')\n",
    "plt.ylabel('Accuracy')\n",
    "plt.show()"
   ]
  },
  {
   "cell_type": "markdown",
   "metadata": {},
   "source": [
    "<p style=\"margin-bottom:5cm;\"></p>\n",
    "\n",
    "- Below is a visualization of the decision boundary of the \"most parsimonious\" hyperparameter choice"
   ]
  },
  {
   "cell_type": "code",
   "execution_count": 22,
   "metadata": {},
   "outputs": [
    {
     "data": {
      "image/png": "[encoded data removed]",
      "text/plain": [
       "<Figure size 720x576 with 4 Axes>"
      ]
     },
     "metadata": {
      "needs_background": "light"
     },
     "output_type": "display_data"
    }
   ],
   "source": [
    "from mlxtend.plotting import plot_decision_regions\n",
    "import matplotlib.gridspec as gridspec\n",
    "import itertools\n",
    "\n",
    "\n",
    "gspec = gridspec.GridSpec(2, 2)\n",
    "fig = plt.figure(figsize=(10,8))\n",
    "\n",
    "for c, grd in zip([0.01, 0.1, 1.0, 10.], itertools.product([0, 1], repeat=2)):\n",
    "\n",
    "    clf = SVC(C=10.0, \n",
    "              kernel='rbf', \n",
    "              degree=1, \n",
    "              gamma=c, \n",
    "              coef0=0.0, \n",
    "              shrinking=True, \n",
    "              probability=False, \n",
    "              tol=0.001, \n",
    "              cache_size=200, \n",
    "              class_weight=None, \n",
    "              verbose=False, \n",
    "              max_iter=-1, \n",
    "              decision_function_shape=None, \n",
    "              random_state=0)\n",
    "\n",
    "    clf.fit(X_train, y_train)\n",
    "    ax = plt.subplot(gspec[grd[0], grd[1]])\n",
    "    fig = plot_decision_regions(X=X, y=y, clf=clf)\n",
    "    plt.title('gamma=%f' % c)\n",
    "\n",
    "\n",
    "plt.xlabel('X1') \n",
    "plt.ylabel('X2')\n",
    "\n",
    "plt.show()"
   ]
  },
  {
   "cell_type": "markdown",
   "metadata": {},
   "source": [
    "<p style=\"margin-bottom:5cm;\"></p>\n",
    "\n",
    "- The following cells in this section repeat the procedure of choosing the most parsimonious hyperparameter using decision trees and two features of the Iris dataset (petal length and petal width)"
   ]
  },
  {
   "cell_type": "code",
   "execution_count": 23,
   "metadata": {},
   "outputs": [],
   "source": [
    "from mlxtend.data import iris_data\n",
    "from sklearn.model_selection import train_test_split\n",
    "\n",
    "\n",
    "X, y = iris_data()\n",
    "X = X[:, [2, 3]]\n",
    "X_train, X_test, y_train, y_test = train_test_split(X, y, random_state=123, test_size=0.15, \n",
    "                                                    shuffle=True, stratify=y)\n"
   ]
  },
  {
   "cell_type": "code",
   "execution_count": 24,
   "metadata": {},
   "outputs": [
    {
     "data": {
      "image/png": "[encoded data removed]",
      "text/plain": [
       "<Figure size 432x288 with 1 Axes>"
      ]
     },
     "metadata": {
      "needs_background": "light"
     },
     "output_type": "display_data"
    }
   ],
   "source": [
    "from sklearn.tree import DecisionTreeClassifier\n",
    "from sklearn.model_selection import StratifiedKFold\n",
    "\n",
    "\n",
    "params = range(1, 11)\n",
    "cv_acc, cv_std, cv_stderr = [], [], []\n",
    "\n",
    "\n",
    "cv = StratifiedKFold(n_splits=10, shuffle=True, random_state=1)\n",
    "\n",
    "for c in params:\n",
    "\n",
    "    clf = DecisionTreeClassifier(random_state=123, max_depth=c)\n",
    "\n",
    "    \n",
    "    all_acc = []\n",
    "    for train_index, valid_index in cv.split(X_train, y_train):\n",
    "        pred = clf.fit(X_train[train_index], y_train[train_index])\\\n",
    "               .predict(X_train[valid_index])\n",
    "        acc = np.mean(y_train[valid_index] == pred)\n",
    "        all_acc.append(acc)\n",
    "\n",
    "    all_acc = np.array(all_acc)\n",
    "    y_pred_cv10_mean = all_acc.mean()\n",
    "    y_pred_cv10_std = all_acc.std()\n",
    "    y_pred_cv10_stderr = y_pred_cv10_std / np.sqrt(10)\n",
    "\n",
    "    cv_acc.append(y_pred_cv10_mean) \n",
    "    cv_std.append(y_pred_cv10_std)\n",
    "    cv_stderr.append(y_pred_cv10_stderr)\n",
    "    \n",
    "\n",
    "## PLOTTING\n",
    "\n",
    "ax = plt.subplot(111)\n",
    "ax.errorbar(params, cv_acc, yerr=cv_stderr, fmt='--o', ecolor='black', elinewidth=2)\n",
    "\n",
    "\n",
    "plt.grid()\n",
    "plt.xlabel('$\\\\gamma$')\n",
    "plt.ylabel('Accuracy')\n",
    "plt.show()"
   ]
  },
  {
   "cell_type": "code",
   "execution_count": 25,
   "metadata": {},
   "outputs": [
    {
     "data": {
      "image/png": "[encoded data removed]",
      "text/plain": [
       "<Figure size 720x576 with 4 Axes>"
      ]
     },
     "metadata": {
      "needs_background": "light"
     },
     "output_type": "display_data"
    }
   ],
   "source": [
    "from mlxtend.plotting import plot_decision_regions\n",
    "import matplotlib.gridspec as gridspec\n",
    "import itertools\n",
    "\n",
    "\n",
    "gspec = gridspec.GridSpec(2, 2)\n",
    "fig = plt.figure(figsize=(10,8))\n",
    "\n",
    "for c, grd in zip([1, 2, 3, 4], itertools.product([0, 1], repeat=2)):\n",
    "\n",
    "    clf = DecisionTreeClassifier(random_state=123, max_depth=c)\n",
    "\n",
    "    clf.fit(X_train, y_train)\n",
    "    ax = plt.subplot(gspec[grd[0], grd[1]])\n",
    "    fig = plot_decision_regions(X=X, y=y, clf=clf)\n",
    "    plt.title('max_depth=%d' % c)\n",
    "\n",
    "\n",
    "plt.xlabel('X1') \n",
    "plt.ylabel('X2')\n",
    "\n",
    "plt.show()"
   ]
  },
  {
   "cell_type": "markdown",
   "metadata": {},
   "source": [
    "<p style=\"margin-bottom:5cm;\"></p>"
   ]
  },
  {
   "cell_type": "markdown",
   "metadata": {},
   "source": [
    "## Repeated k-fold\n",
    "\n",
    "- The following code compares \"single\" k-fold runs with repeated k-fold cross-validation (repeating k-fold 50 times with different random seeds)"
   ]
  },
  {
   "cell_type": "code",
   "execution_count": 26,
   "metadata": {},
   "outputs": [],
   "source": [
    "# SINGLE RUN\n",
    "\n",
    "from sklearn.svm import SVC\n",
    "from sklearn.model_selection import StratifiedKFold\n",
    "\n",
    "params = [0.001, 0.01, 0.1, 1.0, 10.0, 100.0, 1000.0, 10000.0]\n",
    "cv_acc, cv_std, cv_stderr = [], [], []\n",
    "\n",
    "\n",
    "cv = StratifiedKFold(n_splits=10, shuffle=True, random_state=1)\n",
    "\n",
    "for c in params:\n",
    "\n",
    "    clf = SVC(C=10.0, \n",
    "              kernel='rbf', \n",
    "              degree=1, \n",
    "              gamma=c, \n",
    "              coef0=0.0, \n",
    "              shrinking=True, \n",
    "              probability=False, \n",
    "              tol=0.001, \n",
    "              cache_size=200, \n",
    "              class_weight=None, \n",
    "              verbose=False, \n",
    "              max_iter=-1, \n",
    "              decision_function_shape=None, \n",
    "              random_state=0)\n",
    "\n",
    "    \n",
    "    all_acc = []\n",
    "    for train_index, valid_index in cv.split(X_train, y_train):\n",
    "        pred = clf.fit(X_train[train_index], y_train[train_index])\\\n",
    "               .predict(X_train[valid_index])\n",
    "        acc = np.mean(y_train[valid_index] == pred)\n",
    "        all_acc.append(acc)\n",
    "\n",
    "    all_acc = np.array(all_acc)\n",
    "    y_pred_cv10_mean = all_acc.mean()\n",
    "    y_pred_cv10_std = all_acc.std()\n",
    "    y_pred_cv10_stderr = y_pred_cv10_std / np.sqrt(10)\n",
    "\n",
    "    cv_acc.append(y_pred_cv10_mean) \n",
    "    cv_std.append(y_pred_cv10_std)\n",
    "    cv_stderr.append(y_pred_cv10_stderr)"
   ]
  },
  {
   "cell_type": "code",
   "execution_count": 27,
   "metadata": {},
   "outputs": [
    {
     "data": {
      "image/png": "[encoded data removed]",
      "text/plain": [
       "<Figure size 432x288 with 1 Axes>"
      ]
     },
     "metadata": {
      "needs_background": "light"
     },
     "output_type": "display_data"
    }
   ],
   "source": [
    "from sklearn.svm import SVC\n",
    "from sklearn.model_selection import StratifiedKFold\n",
    "\n",
    "\n",
    "rng = np.random.RandomState(seed=12345)\n",
    "seeds = np.arange(10**5)\n",
    "rng.shuffle(seeds)\n",
    "seeds = seeds[:50]\n",
    "\n",
    "\n",
    "params = [0.001, 0.01, 0.1, 1.0, 10.0, 100.0, 1000.0, 10000.0]\n",
    "cv_acc_rep, cv_std_rep, cv_stderr_rep = [], [], []\n",
    "\n",
    "for c in params:\n",
    "\n",
    "    clf = SVC(C=10.0, \n",
    "              kernel='rbf', \n",
    "              degree=1, \n",
    "              gamma=c, \n",
    "              coef0=0.0, \n",
    "              shrinking=True, \n",
    "              probability=False, \n",
    "              tol=0.001, \n",
    "              cache_size=200, \n",
    "              class_weight=None, \n",
    "              verbose=False, \n",
    "              max_iter=-1, \n",
    "              decision_function_shape=None, \n",
    "              random_state=0)\n",
    "\n",
    "\n",
    "    ###########################\n",
    "    ## 50 RUNS, aggregated\n",
    "    ###########################\n",
    "\n",
    "\n",
    "    all_acc = []\n",
    "\n",
    "    for r in range(50):\n",
    "\n",
    "        cv = StratifiedKFold(n_splits=10, shuffle=True, random_state=seeds[r])\n",
    "\n",
    "        for train_index, valid_index in cv.split(X_train, y_train):\n",
    "            pred = clf.fit(X_train[train_index], y_train[train_index])\\\n",
    "                   .predict(X_train[valid_index])\n",
    "            acc = np.mean(pred == y_train[valid_index])\n",
    "            all_acc.append(acc)\n",
    "\n",
    "    all_acc = np.array(all_acc)\n",
    "\n",
    "    cv_acc_rep.append(np.mean(all_acc))\n",
    "    cv_std_rep.append(np.std(all_acc))\n",
    "    cv_stderr_rep.append(np.std(all_acc) / np.sqrt(all_acc.shape[0]))\n",
    "\n",
    "    \n",
    "## PLOTTING\n",
    "\n",
    "ax = plt.subplot(111)\n",
    "ax.set_xscale('log')\n",
    "ax.plot(params, cv_acc, label='1 run')\n",
    "ax.plot(params, cv_acc_rep, label='average over 50 runs')\n",
    "\n",
    "\n",
    "\n",
    "plt.ylim([0.0, 1.0])\n",
    "plt.xlim([0.0001, 100000.0])\n",
    "plt.grid()\n",
    "plt.legend(loc='lower right')\n",
    "plt.xlabel('$\\\\gamma$')\n",
    "plt.ylabel('Accuracy')\n",
    "plt.show()"
   ]
  }
 ],
 "metadata": {
  "kernelspec": {
   "display_name": "Python 3",
   "language": "python",
   "name": "python3"
  },
  "language_info": {
   "codemirror_mode": {
    "name": "ipython",
    "version": 3
   },
   "file_extension": ".py",
   "mimetype": "text/x-python",
   "name": "python",
   "nbconvert_exporter": "python",
   "pygments_lexer": "ipython3",
   "version": "3.7.1"
  }
 },
 "nbformat": 4,
 "nbformat_minor": 4
}
